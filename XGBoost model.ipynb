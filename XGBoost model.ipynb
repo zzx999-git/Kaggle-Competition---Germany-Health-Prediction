{
 "cells": [
  {
   "cell_type": "code",
   "execution_count": 36,
   "id": "faa41bde",
   "metadata": {},
   "outputs": [],
   "source": [
    "from sklearn.feature_selection import RFECV, RFE\n",
    "from sklearn.ensemble import RandomForestClassifier\n",
    "from sklearn.preprocessing import StandardScaler\n",
    "from sklearn.impute import SimpleImputer\n",
    "from sklearn.svm import OneClassSVM\n",
    "from sklearn.svm import SVC\n",
    "from sklearn.model_selection import GridSearchCV\n",
    "from sklearn.model_selection import RandomizedSearchCV\n",
    "import matplotlib.pyplot as plt\n",
    "import numpy as np\n",
    "import pandas as pd\n",
    "import math as math\n",
    "import random as rd\n",
    "from xgboost import XGBClassifier\n",
    "from sklearn.linear_model import LogisticRegression\n",
    "from sklearn.neighbors import KNeighborsClassifier\n",
    "import matplotlib.pyplot as plt\n",
    "import warnings"
   ]
  },
  {
   "cell_type": "code",
   "execution_count": 2,
   "id": "d7515b51",
   "metadata": {},
   "outputs": [
    {
     "name": "stdout",
     "output_type": "stream",
     "text": [
      "1015\n",
      "(17398, 1199)\n"
     ]
    }
   ],
   "source": [
    "train_data = pd.read_csv(\"train.csv\")\n",
    "# drop these columns (\"x96\", \"x97\", \"x98\", \"x1021\", \"x1098\", \"x1099\" are columns with no data)\n",
    "train_X = train_data.drop([\"health\", \"personid\", \"uniqueid\", \"year\", \"x96\", \"x97\", \"x98\", \"x1021\", \"x1098\", \"x1099\"], axis = 1)\n",
    "\n",
    "# change all numerical values to float type\n",
    "train_X = train_X.astype(float)\n",
    "\n",
    "# drop NA that accounts a certain percentage\n",
    "threshold = math.floor(0.05 * 17398)\n",
    "train_X_less_na = train_X.dropna(thresh=threshold, axis=1)\n",
    "print(len(train_X_less_na.columns))\n",
    "print(train_X.shape)"
   ]
  },
  {
   "cell_type": "code",
   "execution_count": 3,
   "id": "1eb71f52",
   "metadata": {},
   "outputs": [
    {
     "name": "stdout",
     "output_type": "stream",
     "text": [
      "836\n"
     ]
    }
   ],
   "source": [
    "# find numerical variables and store them in columns_to_drop \n",
    "category_vars = []\n",
    "for c in train_X_less_na:\n",
    "    if len(pd.unique(train_X_less_na[c])) < 14:\n",
    "        category_vars.append(c)\n",
    "\n",
    "print(len(category_vars))"
   ]
  },
  {
   "cell_type": "code",
   "execution_count": 4,
   "id": "e7b8b5c1",
   "metadata": {},
   "outputs": [],
   "source": [
    "# Impute our data by using the mean of a column as the missing values\n",
    "\n",
    "train_X_less_na_imp = train_X_less_na.copy()\n",
    "\n",
    "for name in train_X_less_na_imp.columns:\n",
    "    if (name in category_vars):\n",
    "        mode = train_X_less_na_imp[name].mode()\n",
    "        for i in range(0, len(train_X_less_na_imp[name])):\n",
    "            if (np.isnan(train_X_less_na_imp.at[i, name])):\n",
    "                train_X_less_na_imp.at[i, name] = rd.choices(mode, k=1)[0]\n",
    "    else:\n",
    "        mean = train_X_less_na_imp[name].mean()\n",
    "        for i in range(0, len(train_X_less_na_imp[name])):\n",
    "            if (np.isnan(train_X_less_na_imp.at[i, name])):\n",
    "                train_X_less_na_imp.at[i, name] = mean\n",
    "\n",
    "\n",
    "# for c in train_X_less_na_imp:\n",
    "    #if c in category_vars:\n",
    "     #   train_X_less_na_imp[c].fillna(train_X_less_na_imp[c].mode(),inplace=True)\n",
    "    # else:\n",
    "     #   train_X_less_na_imp[c].fillna(train_X_less_na_imp[c].mean(),inplace=True)\n",
    "        \n",
    "# check if there is still any NAs\n",
    "for c in train_X_less_na_imp:\n",
    "    if train_X_less_na_imp[c].isnull().any():\n",
    "        print(c)"
   ]
  },
  {
   "cell_type": "code",
   "execution_count": 5,
   "id": "41d83deb",
   "metadata": {},
   "outputs": [
    {
     "name": "stdout",
     "output_type": "stream",
     "text": [
      "3147\n"
     ]
    }
   ],
   "source": [
    "# scale train_X_less_na_imp to fit One class SVM\n",
    "train_X_scaled = train_X_less_na_imp.copy()\n",
    "\n",
    "for c in train_X_scaled:\n",
    "    if c not in category_vars:\n",
    "        if (max(train_X_scaled[c]) > 1) or (min(train_X_scaled[c]) < 0):\n",
    "            train_X_scaled[c] = (train_X_scaled[c]-train_X_scaled[c].mean())/train_X_scaled[c].std()\n",
    "        \n",
    "train_X_scaled = pd.get_dummies(train_X_scaled, columns = category_vars, drop_first = True) # change categorical variables to indicator variables\n",
    "\n",
    "print(len(train_X_scaled.columns))"
   ]
  },
  {
   "cell_type": "code",
   "execution_count": 6,
   "id": "b124a523",
   "metadata": {},
   "outputs": [],
   "source": [
    "# outliers for outcomes in class = 1\n",
    "one_class_svm_1 = OneClassSVM(gamma='scale', nu=0.01)\n",
    "train_X_scaled_1 = train_X_scaled[train_data.health==1]\n",
    "one_class_svm_1.fit(train_X_scaled_1)\n",
    "outliers_1 = one_class_svm_1.predict(train_X_scaled_1) # outliers are indicated as -1, inliers are indicated as 1\n",
    "\n",
    "# outliers for outcomes in class = 2\n",
    "one_class_svm_2 = OneClassSVM(gamma='scale', nu=0.01)\n",
    "train_X_scaled_2 = train_X_scaled[train_data.health==2]\n",
    "one_class_svm_2.fit(train_X_scaled_2)\n",
    "outliers_2 = one_class_svm_2.predict(train_X_scaled_2) # outliers are indicated as -1, inliers are indicated as 1\n",
    "\n",
    "# outliers for outcomes in class = 3\n",
    "one_class_svm_3 = OneClassSVM(gamma='scale', nu=0.01)\n",
    "train_X_scaled_3 = train_X_scaled[train_data.health==3]\n",
    "one_class_svm_3.fit(train_X_scaled_3)\n",
    "outliers_3 = one_class_svm_3.predict(train_X_scaled_3) # outliers are indicated as -1, inliers are indicated as 1\n",
    "\n",
    "# outliers for outcomes in class = 4\n",
    "one_class_svm_4 = OneClassSVM(gamma='scale', nu=0.01)\n",
    "train_X_scaled_4 = train_X_scaled[train_data.health==4]\n",
    "one_class_svm_4.fit(train_X_scaled_4)\n",
    "outliers_4 = one_class_svm_4.predict(train_X_scaled_4) # outliers are indicated as -1, inliers are indicated as 1  \n",
    "\n",
    "# outliers for outcomes in class = 5\n",
    "one_class_svm_5 = OneClassSVM(gamma='scale', nu=0.01)\n",
    "train_X_scaled_5 = train_X_scaled[train_data.health==5]\n",
    "one_class_svm_5.fit(train_X_scaled_5)\n",
    "outliers_5 = one_class_svm_5.predict(train_X_scaled_5) # outliers are indicated as -1, inliers are indicated as 1  "
   ]
  },
  {
   "cell_type": "code",
   "execution_count": 7,
   "id": "b16592f4",
   "metadata": {},
   "outputs": [
    {
     "name": "stdout",
     "output_type": "stream",
     "text": [
      "(17178, 1015)\n"
     ]
    }
   ],
   "source": [
    "# remove outliers from train_X_less_na_imp\n",
    "outliers = [0 for i in range(0, len(train_data.health))]\n",
    "\n",
    "i_1 = 0\n",
    "i_2 = 0\n",
    "i_3 = 0\n",
    "i_4 = 0\n",
    "i_5 = 0\n",
    "cls_1 = (train_data.health==1)\n",
    "cls_2 = (train_data.health==2)\n",
    "cls_3 = (train_data.health==3)\n",
    "cls_4 = (train_data.health==4)\n",
    "cls_5 = (train_data.health==5)\n",
    "for j in range(0, len(train_data.health)):\n",
    "    if cls_1[j] == True:\n",
    "        outliers[j] = outliers_1[i_1]\n",
    "        i_1 += 1\n",
    "    elif cls_2[j] == True:\n",
    "        outliers[j] = outliers_2[i_2]\n",
    "        i_2 += 1\n",
    "    elif cls_3[j] == True:\n",
    "        outliers[j] = outliers_3[i_3]\n",
    "        i_3 += 1\n",
    "    elif cls_4[j] == True:\n",
    "        outliers[j] = outliers_4[i_4]\n",
    "        i_4 += 1\n",
    "    elif cls_5[j] == True:\n",
    "        outliers[j] = outliers_5[i_5]\n",
    "        i_5 += 1 \n",
    "train_X_scaled['outliers'] = outliers\n",
    "train_X_less_na_imp = train_X_less_na_imp[train_X_scaled.outliers == 1].reset_index(drop = True)\n",
    "train_no_outlier = train_data[train_X_scaled.outliers == 1].reset_index(drop = True)\n",
    "train_X_no_outlier = train_X[train_X_scaled.outliers == 1].reset_index(drop = True)\n",
    "print(train_X_less_na_imp.shape)"
   ]
  },
  {
   "cell_type": "code",
   "execution_count": 8,
   "id": "9b46823a",
   "metadata": {},
   "outputs": [
    {
     "name": "stdout",
     "output_type": "stream",
     "text": [
      "(17178, 999)\n"
     ]
    }
   ],
   "source": [
    "warnings.filterwarnings('ignore')\n",
    "# Removing highly correlated features\n",
    "\n",
    "# Create correlation matrix\n",
    "corr_matrix = train_X_less_na_imp.corr(method='pearson').abs()\n",
    "\n",
    "# Select upper triangle of correlation matrix\n",
    "upper = corr_matrix.where(np.triu(np.ones(corr_matrix.shape), k=1).astype(np.bool))\n",
    "\n",
    "# Find features with correlation greater than 0.95\n",
    "to_drop = [column for column in upper.columns if any(upper[column] > 0.95)]\n",
    "\n",
    "# Drop features \n",
    "train_X_less_na_imp_corr = train_X_less_na_imp.drop(to_drop, axis=1)\n",
    "print(train_X_less_na_imp_corr.shape)"
   ]
  },
  {
   "cell_type": "code",
   "execution_count": 15,
   "id": "4d1c4cd4",
   "metadata": {},
   "outputs": [],
   "source": [
    "# Filtered variables based on their importance derived from RF models\n",
    "selector_rf = RFE(RandomForestClassifier(n_estimators=10, oob_score=True, criterion=\"entropy\", min_samples_split = 5, random_state = 2022), n_features_to_select=200, step=2)\n",
    "# selector_rf = RFECV(RandomForestClassifier(n_estimators=10, criterion=\"entropy\", min_samples_split = 5), step = 2, cv = 5, scoring= \"neg_log_loss\")\n",
    "selector_rf = selector_rf.fit(train_X_less_na_imp_corr, train_no_outlier.health)"
   ]
  },
  {
   "cell_type": "code",
   "execution_count": 16,
   "id": "d5982e11",
   "metadata": {
    "scrolled": true
   },
   "outputs": [
    {
     "name": "stdout",
     "output_type": "stream",
     "text": [
      "200\n",
      "x1\n",
      "x2\n",
      "x3\n",
      "x4\n",
      "x7\n",
      "x14\n",
      "x17\n",
      "x20\n",
      "x111\n",
      "x112\n",
      "x113\n",
      "x117\n",
      "x118\n",
      "x119\n",
      "x121\n",
      "x122\n",
      "x149\n",
      "x162\n",
      "x163\n",
      "x164\n",
      "x193\n",
      "x194\n",
      "x195\n",
      "x201\n",
      "x202\n",
      "x203\n",
      "x205\n",
      "x207\n",
      "x208\n",
      "x223\n",
      "x224\n",
      "x225\n",
      "x226\n",
      "x233\n",
      "x235\n",
      "x236\n",
      "x237\n",
      "x266\n",
      "x285\n",
      "x287\n",
      "x288\n",
      "x290\n",
      "x291\n",
      "x292\n",
      "x293\n",
      "x309\n",
      "x310\n",
      "x312\n",
      "x328\n",
      "x333\n",
      "x334\n",
      "x386\n",
      "x408\n",
      "x409\n",
      "x411\n",
      "x412\n",
      "x413\n",
      "x414\n",
      "x416\n",
      "x417\n",
      "x445\n",
      "x452\n",
      "x453\n",
      "x454\n",
      "x455\n",
      "x472\n",
      "x477\n",
      "x497\n",
      "x544\n",
      "x545\n",
      "x546\n",
      "x547\n",
      "x548\n",
      "x613\n",
      "x615\n",
      "x631\n",
      "x632\n",
      "x639\n",
      "x640\n",
      "x655\n",
      "x657\n",
      "x661\n",
      "x662\n",
      "x663\n",
      "x665\n",
      "x666\n",
      "x669\n",
      "x670\n",
      "x671\n",
      "x672\n",
      "x673\n",
      "x676\n",
      "x683\n",
      "x684\n",
      "x687\n",
      "x688\n",
      "x689\n",
      "x691\n",
      "x692\n",
      "x693\n",
      "x695\n",
      "x696\n",
      "x697\n",
      "x698\n",
      "x699\n",
      "x702\n",
      "x711\n",
      "x714\n",
      "x715\n",
      "x723\n",
      "x725\n",
      "x726\n",
      "x728\n",
      "x729\n",
      "x730\n",
      "x754\n",
      "x758\n",
      "x759\n",
      "x767\n",
      "x786\n",
      "x795\n",
      "x796\n",
      "x798\n",
      "x845\n",
      "x896\n",
      "x897\n",
      "x911\n",
      "x912\n",
      "x913\n",
      "x914\n",
      "x916\n",
      "x917\n",
      "x918\n",
      "x919\n",
      "x920\n",
      "x921\n",
      "x922\n",
      "x923\n",
      "x924\n",
      "x925\n",
      "x926\n",
      "x927\n",
      "x929\n",
      "x930\n",
      "x943\n",
      "x945\n",
      "x946\n",
      "x949\n",
      "x950\n",
      "x951\n",
      "x953\n",
      "x954\n",
      "x955\n",
      "x956\n",
      "x957\n",
      "x960\n",
      "x963\n",
      "x965\n",
      "x967\n",
      "x968\n",
      "x977\n",
      "x978\n",
      "x987\n",
      "x989\n",
      "x1032\n",
      "x1035\n",
      "x1039\n",
      "x1042\n",
      "x1043\n",
      "x1049\n",
      "x1050\n",
      "x1107\n",
      "x1108\n",
      "x1132\n",
      "x1133\n",
      "x1134\n",
      "x1140\n",
      "x1141\n",
      "x1143\n",
      "x1144\n",
      "x1145\n",
      "x1146\n",
      "x1147\n",
      "x1150\n",
      "x1152\n",
      "x1153\n",
      "x1157\n",
      "x1166\n",
      "x1167\n",
      "x1175\n",
      "x1178\n",
      "x1179\n",
      "x1181\n",
      "x1183\n",
      "x1184\n",
      "x1185\n",
      "x1202\n",
      "x1203\n",
      "x1204\n",
      "x1205\n"
     ]
    }
   ],
   "source": [
    "# the selected features\n",
    "features_rf = train_X_less_na_imp_corr.columns[selector_rf.get_support()]\n",
    "print(len(features_rf))\n",
    "for f in features_rf:\n",
    "    print(f)"
   ]
  },
  {
   "cell_type": "code",
   "execution_count": 46,
   "id": "49cfaa72",
   "metadata": {},
   "outputs": [],
   "source": [
    "rf = RandomForestClassifier(n_estimators=10, oob_score=True, criterion=\"entropy\", min_samples_split = 5, random_state = 2022)\n",
    "# fit the model\n",
    "rf_model = rf.fit(train_X_less_na_imp_corr[features_rf], train_no_outlier.health)\n",
    "# get importance\n",
    "rf_importance = rf_model.feature_importances_"
   ]
  },
  {
   "cell_type": "code",
   "execution_count": 64,
   "id": "619c2706",
   "metadata": {},
   "outputs": [
    {
     "data": {
      "image/png": "[encoded data removed]",
      "text/plain": [
       "<Figure size 432x288 with 1 Axes>"
      ]
     },
     "metadata": {
      "needs_background": "light"
     },
     "output_type": "display_data"
    }
   ],
   "source": [
    "data_importance = {\"feature\": features_rf, \"importance\": rf_importance}\n",
    "df_importance = pd.DataFrame(data_importance).sort_values(by = ['importance'], ascending = False)\n",
    "top_features_df = df_importance[0:25]\n",
    "\n",
    "plt.barh(top_features_df.feature, top_features_df.importance)\n",
    "plt.title('RFE feature importance')\n",
    "plt.ylabel('features')\n",
    "plt.xlabel('importance')\n",
    "plt.show()"
   ]
  },
  {
   "cell_type": "code",
   "execution_count": 58,
   "id": "97b4af38",
   "metadata": {},
   "outputs": [],
   "source": [
    "train_X_no_outlier_final = train_X_no_outlier[features_rf]\n",
    "# train_X_no_outlier_final['personid'] = train_data.personid[train_X_scaled.outliers == 1]"
   ]
  },
  {
   "cell_type": "code",
   "execution_count": null,
   "id": "f61c440c",
   "metadata": {},
   "outputs": [],
   "source": [
    "# warnings.filterwarnings('ignore')\n",
    "\n",
    "# Set of parameters to perform Cross-validation\n",
    "\n",
    "parameters = {'eta': [0.1, 0.15, 0.2, 0.25, 0.3],\n",
    "              'gamma':[0.1, 0.15, 0.2, 0.25, 0.3], 'subsample': [1],\n",
    "              'max_depth': [2, 3], 'lambda': [0.25, 0.35, 0.5], \"min_child_weight\": [3 4]}\n",
    "xgb = XGBClassifier(eval_metric='mlogloss')\n",
    "clf_xgb = GridSearchCV(xgb, param_grid = parameters, scoring = \"neg_log_loss\")\n",
    "xgb_model = clf_xgb.fit(train_X_no_outlier_final, train_no_outlier.health) # the final XGBoost model"
   ]
  },
  {
   "cell_type": "code",
   "execution_count": 28,
   "id": "e983e2ba",
   "metadata": {
    "scrolled": false
   },
   "outputs": [
    {
     "name": "stdout",
     "output_type": "stream",
     "text": [
      "-1.1965552908253767\n"
     ]
    },
    {
     "data": {
      "text/plain": [
       "XGBClassifier(base_score=0.5, booster='gbtree', colsample_bylevel=1,\n",
       "              colsample_bynode=1, colsample_bytree=1, enable_categorical=False,\n",
       "              eta=0.15, eval_metric='mlogloss', gamma=0.075, gpu_id=-1,\n",
       "              importance_type=None, interaction_constraints='', lambda=0.6,\n",
       "              learning_rate=0.150000006, max_delta_step=0, max_depth=2,\n",
       "              min_child_weight=4, missing=nan, monotone_constraints='()',\n",
       "              n_estimators=100, n_jobs=4, num_parallel_tree=1,\n",
       "              objective='multi:softprob', predictor='auto', random_state=0,\n",
       "              reg_alpha=0, reg_lambda=0.600000024, scale_pos_weight=None,\n",
       "              subsample=1, tree_method='exact', ...)"
      ]
     },
     "execution_count": 28,
     "metadata": {},
     "output_type": "execute_result"
    }
   ],
   "source": [
    "print(xgb_model.best_score_)\n",
    "xgb_model.best_estimator_"
   ]
  },
  {
   "cell_type": "code",
   "execution_count": 59,
   "id": "8b8fce85",
   "metadata": {},
   "outputs": [],
   "source": [
    "# warnings.filterwarnings('ignore')\n",
    "xgb = XGBClassifier(eta = 0.15, gamma = 0.075, max_depth = 2, subsample = 1, min_child_weight = 4, eval_metric='mlogloss')\n",
    "xgb_model = xgb.fit(train_X_no_outlier_final, train_no_outlier.health)"
   ]
  },
  {
   "cell_type": "code",
   "execution_count": 81,
   "id": "6b4ae205",
   "metadata": {},
   "outputs": [
    {
     "data": {
      "image/png": "[encoded data removed]",
      "text/plain": [
       "<Figure size 432x288 with 1 Axes>"
      ]
     },
     "metadata": {
      "needs_background": "light"
     },
     "output_type": "display_data"
    }
   ],
   "source": [
    "xgb_importance = xgb_model.feature_importances_\n",
    "data_importance = {\"feature\": features_rf, \"importance\": xgb_importance}\n",
    "df_importance = pd.DataFrame(data_importance).sort_values(by = ['importance'], ascending = False)\n",
    "top_features_df = df_importance[0:15]\n",
    "\n",
    "real_names = [\"Own financial situation\", \"Overall life satisfaction\", \"Mother general school leaving certificate\", \n",
    "             \"frequency of physical pain in last 4 weeks\", \"General school leaving certificate\", \"Current magnitude prestige\",\n",
    "             \"Private use of internet\", \"Age when stopped working\", \"Father general school leaving certificate\", \n",
    "             \"Current occupation\", \"Current occupation (ISEI)\", \"Year of birth\", \"Last occupation (ISEI)\", \"Reason of unemployment\", \n",
    "              \"Last occupation (ISCO)\"]\n",
    "\n",
    "real_names.reverse()\n",
    "\n",
    "top_features_df[\"real_name\"] = real_names\n",
    "\n",
    "plt.barh(top_features_df.real_name, top_features_df.importance)\n",
    "plt.title('XGBoost feature importance')\n",
    "plt.ylabel('features')\n",
    "plt.xlabel('importance')\n",
    "plt.show()"
   ]
  },
  {
   "cell_type": "code",
   "execution_count": 85,
   "id": "5c5365c6",
   "metadata": {},
   "outputs": [
    {
     "data": {
      "image/png": "[encoded data removed]",
      "text/plain": [
       "<Figure size 432x288 with 1 Axes>"
      ]
     },
     "metadata": {
      "needs_background": "light"
     },
     "output_type": "display_data"
    }
   ],
   "source": [
    "feature_classes = [\"Occupation\", \"Age\", \"Information access\", \"Education level\", \"mental & physical health\", \n",
    "                  \"Financial situation\"]\n",
    "feature_count = [6, 2, 1, 3, 2, 1]\n",
    "data_important_class = {\"Class\": feature_classes, \"feature_number\": feature_count}\n",
    "data_important_class = pd.DataFrame(data_important_class).sort_values(by = ['feature_number'], ascending = True)\n",
    "plt.barh(data_important_class.Class, data_important_class.feature_number)\n",
    "plt.title('XGBoost important feature classification')\n",
    "plt.ylabel('features class')\n",
    "plt.xlabel('number of features')\n",
    "plt.show()"
   ]
  },
  {
   "cell_type": "code",
   "execution_count": 23,
   "id": "66e9097f",
   "metadata": {},
   "outputs": [],
   "source": [
    "test_data = pd.read_csv(\"test.csv\")\n",
    "\n",
    "# convert the test dataset to float type\n",
    "test_data = test_data.astype(float)\n",
    "\n",
    "# features_rf = features_rf.insert(0, \"personid\")\n",
    "test_data_clean = test_data[features_rf]"
   ]
  },
  {
   "cell_type": "code",
   "execution_count": 24,
   "id": "f035f69c",
   "metadata": {},
   "outputs": [],
   "source": [
    "predict_xgb = xgb_model.predict_proba(test_data_clean)\n",
    "predict_xgb = pd.DataFrame(predict_xgb, columns = [\"p1\", \"p2\", \"p3\", \"p4\", \"p5\"])\n",
    "predict_xgb.insert(loc = 0, column = 'uniqueid', value = test_data.uniqueid.astype(int))\n",
    "predict_xgb.to_csv(r'C:\\Users\\AlecZZX\\Desktop\\441 data\\prediction trials\\prediction_12.csv', index = False, header = True)"
   ]
  },
  {
   "cell_type": "code",
   "execution_count": null,
   "id": "84c069b5",
   "metadata": {},
   "outputs": [],
   "source": []
  },
  {
   "cell_type": "code",
   "execution_count": null,
   "id": "83b26bfc",
   "metadata": {},
   "outputs": [],
   "source": []
  },
  {
   "cell_type": "code",
   "execution_count": 773,
   "id": "4d5619b0",
   "metadata": {},
   "outputs": [],
   "source": []
  }
 ],
 "metadata": {
  "kernelspec": {
   "display_name": "Python 3 (ipykernel)",
   "language": "python",
   "name": "python3"
  },
  "language_info": {
   "codemirror_mode": {
    "name": "ipython",
    "version": 3
   },
   "file_extension": ".py",
   "mimetype": "text/x-python",
   "name": "python",
   "nbconvert_exporter": "python",
   "pygments_lexer": "ipython3",
   "version": "3.9.7"
  }
 },
 "nbformat": 4,
 "nbformat_minor": 5
}
